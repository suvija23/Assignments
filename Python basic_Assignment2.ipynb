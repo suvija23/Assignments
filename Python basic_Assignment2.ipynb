{
 "cells": [
  {
   "cell_type": "code",
   "execution_count": 4,
   "metadata": {},
   "outputs": [],
   "source": [
    "\"\"\"\n",
    "1.What are the two values of the Boolean data type? How do you write them?\n",
    "Ans: Two values of Boolean data type are True and False.\n",
    "\"\"\"\n",
    "a= True\n",
    "b= False\n"
   ]
  },
  {
   "cell_type": "code",
   "execution_count": 6,
   "metadata": {},
   "outputs": [
    {
     "data": {
      "text/plain": [
       "(True, False)"
      ]
     },
     "execution_count": 6,
     "metadata": {},
     "output_type": "execute_result"
    }
   ],
   "source": [
    "a,b"
   ]
  },
  {
   "cell_type": "markdown",
   "metadata": {},
   "source": [
    "2. What are the three different types of Boolean operators?\n",
    "Ans: and, or, not"
   ]
  },
  {
   "cell_type": "markdown",
   "metadata": {},
   "source": [
    "3. Make a list of each Boolean operator's truth tables (i.e. every possible combination of Boolean values for the operator and what it evaluate ).\n",
    "And:\n",
    "True\tTrue\t= True\n",
    "True\tFalse\t= False\n",
    "False\tTrue\t= False\n",
    "False\tFalse\t= False\n",
    "Or:\n",
    "True\tTrue\t= True\n",
    "True\tFalse\t= True\n",
    "False\tTrue\t= True\n",
    "False\tFalse\t= False\n",
    "Not:\n",
    "True   False\n",
    "False  True\n"
   ]
  },
  {
   "cell_type": "markdown",
   "metadata": {},
   "source": [
    "4. What are the values of the following expressions?\n",
    "(5 > 4) and (3 == 5) - False\n",
    "not (5 > 4) - False\n",
    "(5 > 4) or (3 == 5) -True\n",
    "not ((5 > 4) or (3 == 5)) -False\n",
    "(True and True) and (True == False)  -False\n",
    "(not False) or (not True) -True\n"
   ]
  },
  {
   "cell_type": "markdown",
   "metadata": {},
   "source": [
    "5.What are the six comparison operators?\n",
    ">\n",
    "<\n",
    ">=\n",
    "<=\n",
    "==\n",
    "!="
   ]
  },
  {
   "cell_type": "markdown",
   "metadata": {},
   "source": [
    "6. How do you tell the difference between the equal to and assignment operators?Describe a condition and when you would use one.\n",
    "Ans: equal to used to compare values denoted by == whereas assignment operator denated by = is used to asign values.\n",
    "Ex-\n",
    "a=5 # assigning a to 5\n",
    "b=0 # assigning b to 0\n",
    "if a == b: #comparing a and b to check whether a is equal to b\n",
    " print (\"Same value\")\n",
    "else:\n",
    " print (\"Different value\")"
   ]
  },
  {
   "cell_type": "code",
   "execution_count": 27,
   "metadata": {},
   "outputs": [
    {
     "name": "stdout",
     "output_type": "stream",
     "text": [
      "ham\n",
      "spam\n",
      "spam\n"
     ]
    }
   ],
   "source": [
    "#7Identify the three blocks in this code:\n",
    "spam = 0\n",
    "if spam == 10: # block1\n",
    " print(\"eggs\")\n",
    "if spam > 5:# block2\n",
    " print(\"bacon\")\n",
    "else:# block3\n",
    " print(\"ham\")\n",
    " print('spam')\n",
    " print('spam')\n"
   ]
  },
  {
   "cell_type": "code",
   "execution_count": 47,
   "metadata": {},
   "outputs": [
    {
     "name": "stdout",
     "output_type": "stream",
     "text": [
      "Enter any number2\n",
      "Howdy\n"
     ]
    }
   ],
   "source": [
    "#8. Write code that prints Hello if 1 is stored in spam, prints Howdy if 2 is stored in spam, \n",
    "# and prints Greetings! if anything else is stored in spam.\n",
    "spam = int(input(\"Enter any number\"))\n",
    "if spam == 1:\n",
    "    print(\"Hello\")\n",
    "elif spam == 2 :\n",
    "    print (\"Howdy\")\n",
    "else :\n",
    "    print (\"Greetings!\")\n",
    "    "
   ]
  },
  {
   "cell_type": "markdown",
   "metadata": {},
   "source": [
    "9.If your programme is stuck in an endless loop, what keys you’ll press?\n",
    "Ans: Ctrl +"
   ]
  },
  {
   "cell_type": "markdown",
   "metadata": {},
   "source": [
    "10. How can you tell the difference between break and continue?\n",
    "Ans:Break will cause the iteration to stop and come out of loop\n",
    "continue will terminate the current iteration and resumes the control to the next iteration of the loop."
   ]
  },
  {
   "cell_type": "markdown",
   "metadata": {},
   "source": [
    "#11. In a for loop, what is the difference between range(10), range(0, 10), and range(0, 10, 1)?\n",
    "Ans: No  diference. Output will be same\n",
    "    range(10) - pased stop parameter\n",
    "    range(0, 10) - passed start and stop parameter\n",
    "     range(0, 10, 1) -  paased start,stop and step parameter\n"
   ]
  },
  {
   "cell_type": "code",
   "execution_count": null,
   "metadata": {},
   "outputs": [],
   "source": [
    "\"\"\"Write a short program that prints the numbers 1 to 10 using a for loop. \n",
    "Then write an equivalent program that prints the numbers 1 to 10 using a while loop.\"\"\"\n",
    "# using for loop\n",
    "n=11\n",
    "for i in range(1,n):\n",
    " print (i)\n",
    "#using while loop\n",
    "q = 11 \n",
    "i = 1\n",
    "while i < q:\n",
    "    print(i)\n",
    "    i=i+1"
   ]
  },
  {
   "cell_type": "markdown",
   "metadata": {},
   "source": [
    "If you had a function named bacon() inside a module named spam, how would you call it after importing spam?\n",
    "Ans: \n",
    "spam.bacon()"
   ]
  },
  {
   "cell_type": "code",
   "execution_count": null,
   "metadata": {},
   "outputs": [],
   "source": []
  },
  {
   "cell_type": "code",
   "execution_count": null,
   "metadata": {},
   "outputs": [],
   "source": []
  }
 ],
 "metadata": {
  "kernelspec": {
   "display_name": "Python 3",
   "language": "python",
   "name": "python3"
  },
  "language_info": {
   "codemirror_mode": {
    "name": "ipython",
    "version": 3
   },
   "file_extension": ".py",
   "mimetype": "text/x-python",
   "name": "python",
   "nbconvert_exporter": "python",
   "pygments_lexer": "ipython3",
   "version": "3.8.5"
  }
 },
 "nbformat": 4,
 "nbformat_minor": 4
}
