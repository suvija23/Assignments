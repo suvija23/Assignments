{
 "cells": [
  {
   "cell_type": "code",
   "execution_count": 1,
   "metadata": {},
   "outputs": [
    {
     "name": "stdout",
     "output_type": "stream",
     "text": [
      "Enter a number8\n",
      "Factorial is 40320\n"
     ]
    }
   ],
   "source": [
    "#1.\tWrite a Python Program to Find the Factorial of a Number?\n",
    "#4! = 4x3x2x1 = 24  \n",
    "a=int(input(\"Enter a number\"))\n",
    "fact=1\n",
    "if a<=0:\n",
    "    print(\"Factorial can be found for positive nos only\")\n",
    "else:    \n",
    "    for i in range(1,a+1):\n",
    "        fact=fact*i\n",
    "    print(\"Factorial is {}\".format(fact))"
   ]
  },
  {
   "cell_type": "code",
   "execution_count": 24,
   "metadata": {},
   "outputs": [
    {
     "name": "stdout",
     "output_type": "stream",
     "text": [
      "enter any number 6\n",
      "6x1=6\n",
      "6x2=12\n",
      "6x3=18\n",
      "6x4=24\n",
      "6x5=30\n",
      "6x6=36\n",
      "6x7=42\n",
      "6x8=48\n",
      "6x9=54\n",
      "6x10=60\n"
     ]
    }
   ],
   "source": [
    "#2.Python Program to Display the multiplication Table\n",
    "a=int(input(\"enter any number \"))\n",
    "\n",
    "for i in range (1,11):\n",
    "    k=i*a\n",
    "    print(\"{}x{}={}\".format(a,i,k))"
   ]
  },
  {
   "cell_type": "code",
   "execution_count": 10,
   "metadata": {},
   "outputs": [],
   "source": [
    "#3.\tWrite a Python Program to Print the Fibonacci sequence?\n",
    "def fibo(x):\n",
    "    a=1\n",
    "    b=1\n",
    "    l=[]\n",
    "    for i in range(x):\n",
    "        l.append(a)\n",
    "        a,b =b, b+a\n",
    "    return l"
   ]
  },
  {
   "cell_type": "code",
   "execution_count": 12,
   "metadata": {},
   "outputs": [
    {
     "data": {
      "text/plain": [
       "[1, 1, 2, 3, 5]"
      ]
     },
     "execution_count": 12,
     "metadata": {},
     "output_type": "execute_result"
    }
   ],
   "source": [
    "fibo(5)"
   ]
  },
  {
   "cell_type": "code",
   "execution_count": 92,
   "metadata": {},
   "outputs": [
    {
     "name": "stdout",
     "output_type": "stream",
     "text": [
      "Please Enter the Number: 1634\n",
      "1634 is an Armstrong Number\n"
     ]
    }
   ],
   "source": [
    "#4.\tWrite a Python Program to Check Armstrong Number?\n",
    "\n",
    "Number = int(input(\"Please Enter the Number: \"))\n",
    "Sum = 0\n",
    "Times = 0\n",
    "Temp = Number\n",
    "while Temp > 0:\n",
    "           Times = Times + 1\n",
    "           Temp = Temp // 10\n",
    "Temp = Number\n",
    "while Temp > 0:\n",
    "           Reminder = Temp % 10\n",
    "           Sum = Sum + (Reminder ** Times)\n",
    "           Temp //= 10\n",
    "if Number == Sum:\n",
    "           print(\"{} is an Armstrong Number\".format(Number))\n",
    "else:\n",
    "           print(\"{} is not an Armstrong Number\".format(Number))"
   ]
  },
  {
   "cell_type": "code",
   "execution_count": 3,
   "metadata": {},
   "outputs": [
    {
     "name": "stdout",
     "output_type": "stream",
     "text": [
      "Enter lower range number 200\n",
      "enter upper range number 2000\n",
      "216\n",
      "370\n",
      "371\n",
      "407\n",
      "729\n",
      "1296\n",
      "1634\n"
     ]
    }
   ],
   "source": [
    "#5.\tWrite a Python Program to Find Armstrong Number in an Interval?\n",
    "\n",
    "lower=int(input(\"Enter lower range number \"))\n",
    "upper=int(input(\"enter upper range number \"))\n",
    "\n",
    "for Number in range (lower,upper+1):\n",
    "    Sum = 0\n",
    "    Times = 0\n",
    "    Temp = Number\n",
    "    while Temp > 0:\n",
    "           Times = Times + 1\n",
    "           Temp = Temp // 10\n",
    "    Temp = Number\n",
    "    while Temp > 0:\n",
    "        Reminder = Temp % 10\n",
    "        Sum = Sum + (Reminder ** Times)\n",
    "        Temp //= 10\n",
    "        if Number == Sum:\n",
    "            print(Number)"
   ]
  },
  {
   "cell_type": "code",
   "execution_count": 10,
   "metadata": {},
   "outputs": [
    {
     "name": "stdout",
     "output_type": "stream",
     "text": [
      "enter a number 23\n",
      "sum of natural nos from 1 to 23 is 276.0\n"
     ]
    }
   ],
   "source": [
    "#6.\tWrite a Python Program to Find the Sum of Natural Numbers?\n",
    "\n",
    "n=int(input(\"enter a number \"))\n",
    "sum = n*(n+1)/2\n",
    "print(\"sum of natural nos from 1 to {} is {}\".format(n,sum))"
   ]
  },
  {
   "cell_type": "code",
   "execution_count": null,
   "metadata": {},
   "outputs": [],
   "source": []
  }
 ],
 "metadata": {
  "kernelspec": {
   "display_name": "Python 3",
   "language": "python",
   "name": "python3"
  },
  "language_info": {
   "codemirror_mode": {
    "name": "ipython",
    "version": 3
   },
   "file_extension": ".py",
   "mimetype": "text/x-python",
   "name": "python",
   "nbconvert_exporter": "python",
   "pygments_lexer": "ipython3",
   "version": "3.8.5"
  }
 },
 "nbformat": 4,
 "nbformat_minor": 4
}
