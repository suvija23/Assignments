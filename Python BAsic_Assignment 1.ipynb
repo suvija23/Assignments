{
 "cells": [
  {
   "cell_type": "markdown",
   "metadata": {},
   "source": [
    "1. In the below elements which of them are values or an expression? eg:- values can be integer or string and expressions will be mathematical operators.\n",
    "*   expression\n",
    "'hello' values\n",
    "-87.8  values\n",
    "- expression\n",
    "/  expression\n",
    "+\texpression\n",
    "6 values\n"
   ]
  },
  {
   "cell_type": "markdown",
   "metadata": {},
   "source": [
    "2. What is the difference between string and variable?\n",
    "A string is a dataype and variable is where we store dataype\n"
   ]
  },
  {
   "cell_type": "markdown",
   "metadata": {},
   "source": [
    "3. Describe three different data types.\n",
    "Int – Integer datatype is used to take  integer\n",
    "Float – float datatype is used for decimal values/or negative nos\n",
    "Str – string datatype is used to store character value\n"
   ]
  },
  {
   "cell_type": "markdown",
   "metadata": {},
   "source": [
    "4. What is an expression made up of? What do all expressions do?\n",
    "Expression is made of identifiers , operators\n",
    "5. This assignment statements, like spam = 10. What is the difference between an expression and a statement?\n",
    "Expression is used to evaluate to a value\n",
    "Statement is to perform action\n",
    "6. After running the following code, what does the variable bacon contain?\n",
    "bacon = 22\n",
    "bacon + 1\n",
    "23\n",
    "7. What should the values of the following two terms be?\n",
    "'spam' + 'spamspam'   spamspamspam\n",
    "\n",
    "'spam' * 3  spamspamspam\n",
    "\n",
    "\n",
    "8. Why is eggs a valid variable name while 100 is invalid?\n",
    "Eggs is valid because its characters and allowed to be variable name\n",
    "100 is a number and hence not allowed as variable name\n",
    "9. What three functions can be used to get the integer, floating-point number, or string version of a value?\n",
    "Int()  for integer\n",
    "Float()  for floating point\n",
    "Str()  for string\n",
    "10. Why does this expression cause an error? How can you fix it?\n",
    "'I have eaten ' + 99 + ' burritos.'\n",
    "We get an error because here we are trying to add  string and integer which are different dataype.We can fix it by typecasting int to str\n",
    "\"I have eaten \" + str(\"99\") + \"burritos.\""
   ]
  }
 ],
 "metadata": {
  "kernelspec": {
   "display_name": "Python 3",
   "language": "python",
   "name": "python3"
  },
  "language_info": {
   "codemirror_mode": {
    "name": "ipython",
    "version": 3
   },
   "file_extension": ".py",
   "mimetype": "text/x-python",
   "name": "python",
   "nbconvert_exporter": "python",
   "pygments_lexer": "ipython3",
   "version": "3.8.5"
  }
 },
 "nbformat": 4,
 "nbformat_minor": 4
}
