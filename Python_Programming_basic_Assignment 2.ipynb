{
 "cells": [
  {
   "cell_type": "code",
   "execution_count": 2,
   "metadata": {},
   "outputs": [
    {
     "name": "stdout",
     "output_type": "stream",
     "text": [
      "Enter data in km: 56\n",
      "After converting km to miles the answer is 34.7984\n"
     ]
    }
   ],
   "source": [
    "#1.\tWrite a Python program to convert kilometers to miles?\n",
    "#formula used-multiply km with 0.6214 to get in miles\n",
    "a=int(input(\"Enter data in km: \"))\n",
    "b=a*0.6214\n",
    "print(\"After converting km to miles the answer is {}\".format(b))"
   ]
  },
  {
   "cell_type": "code",
   "execution_count": 4,
   "metadata": {},
   "outputs": [
    {
     "name": "stdout",
     "output_type": "stream",
     "text": [
      "Enter temperature in Celsius: 39\n",
      "After converting Celsius to Fahrenheit the answer is 102.2\n"
     ]
    }
   ],
   "source": [
    "#2.\tWrite a Python program to convert Celsius to Fahrenheit?\n",
    "# Formula used-T(°F) = T(°C) × 1.8 + 32\n",
    "a=int(input(\"Enter temperature in Celsius: \"))\n",
    "b=(a*1.8)+32\n",
    "print(\"After converting Celsius to Fahrenheit the answer is {}\".format(b))"
   ]
  },
  {
   "cell_type": "code",
   "execution_count": 7,
   "metadata": {},
   "outputs": [
    {
     "name": "stdout",
     "output_type": "stream",
     "text": [
      "Provide year 2022\n",
      "Provide month 09\n",
      "   September 2022\n",
      "Mo Tu We Th Fr Sa Su\n",
      "          1  2  3  4\n",
      " 5  6  7  8  9 10 11\n",
      "12 13 14 15 16 17 18\n",
      "19 20 21 22 23 24 25\n",
      "26 27 28 29 30\n",
      "\n"
     ]
    }
   ],
   "source": [
    "#3.\tWrite a Python program to display calendar?\n",
    "import calendar\n",
    "year=int(input(\"Provide year \"))\n",
    "month=int(input(\"Provide month \"))\n",
    "print(calendar.month(year,month))"
   ]
  },
  {
   "cell_type": "code",
   "execution_count": 8,
   "metadata": {},
   "outputs": [
    {
     "name": "stdout",
     "output_type": "stream",
     "text": [
      "Enter First integer8\n",
      "Enter Second integer4\n",
      "Enter Third integer5\n",
      "The roots are\n",
      "(-0.25-0.75j)\n",
      "(-0.25+0.75j)\n"
     ]
    }
   ],
   "source": [
    "#4.\tWrite a Python program to solve quadratic equation?\n",
    "\n",
    "import cmath\n",
    "a = int(input(\"Enter First integer \"))\n",
    "if a== 0:\n",
    "    print(\"Enter a non zero number \")\n",
    "b = int(input(\"Enter Second integer \"))\n",
    "c = int(input(\"Enter Third integer \"))\n",
    "  \n",
    "# calculating  the discriminant\n",
    "dis = (b**2) - (4 * a*c)\n",
    "  \n",
    "# find two results\n",
    "ans1 = (-b-cmath.sqrt(dis))/(2 * a)\n",
    "ans2 = (-b + cmath.sqrt(dis))/(2 * a)\n",
    "  \n",
    "# printing the results\n",
    "print('The roots are')\n",
    "print(ans1)\n",
    "print(ans2)"
   ]
  },
  {
   "cell_type": "code",
   "execution_count": 11,
   "metadata": {},
   "outputs": [
    {
     "name": "stdout",
     "output_type": "stream",
     "text": [
      "Enter value for a 45\n",
      "Enter value for b 23\n",
      "Values befor swapping is a=45,b=23\n",
      "values after swapping is a=23,b=45\n"
     ]
    }
   ],
   "source": [
    "#5.\tWrite a Python program to swap two variables without temp variable\n",
    "a=input(\"Enter value for a \")\n",
    "b = input(\"Enter value for b \")\n",
    "print(\"Values befor swapping is a={},b={}\".format(a,b))\n",
    "a,b=b,a\n",
    "print(\"values after swapping is a={},b={}\".format(a,b))"
   ]
  },
  {
   "cell_type": "code",
   "execution_count": null,
   "metadata": {},
   "outputs": [],
   "source": []
  }
 ],
 "metadata": {
  "kernelspec": {
   "display_name": "Python 3",
   "language": "python",
   "name": "python3"
  },
  "language_info": {
   "codemirror_mode": {
    "name": "ipython",
    "version": 3
   },
   "file_extension": ".py",
   "mimetype": "text/x-python",
   "name": "python",
   "nbconvert_exporter": "python",
   "pygments_lexer": "ipython3",
   "version": "3.8.5"
  }
 },
 "nbformat": 4,
 "nbformat_minor": 4
}
