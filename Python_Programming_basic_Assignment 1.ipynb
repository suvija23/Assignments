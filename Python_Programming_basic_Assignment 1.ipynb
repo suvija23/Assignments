{
 "cells": [
  {
   "cell_type": "code",
   "execution_count": 1,
   "metadata": {},
   "outputs": [
    {
     "name": "stdout",
     "output_type": "stream",
     "text": [
      "Hello Python\n"
     ]
    }
   ],
   "source": [
    "#1.\tWrite a Python program to print \"Hello Python\"?\n",
    "print(\"Hello Python\")"
   ]
  },
  {
   "cell_type": "code",
   "execution_count": 5,
   "metadata": {},
   "outputs": [
    {
     "name": "stdout",
     "output_type": "stream",
     "text": [
      "Input first number4\n",
      "Input second number2\n",
      "Addition of the two number is 6\n",
      "Division of the two number is 2.0\n"
     ]
    }
   ],
   "source": [
    "#2.\tWrite a Python program to do arithmetical operations addition and division.?\n",
    "a=int(input(\"Input first number \"))\n",
    "b=int(input(\"Input second number \"))\n",
    "c=a+b\n",
    "d=a/b\n",
    "print(\"Addition of the two number is {}\".format(c))\n",
    "print(\"Division of the two number is {}\".format(d))"
   ]
  },
  {
   "cell_type": "code",
   "execution_count": 8,
   "metadata": {},
   "outputs": [
    {
     "name": "stdout",
     "output_type": "stream",
     "text": [
      "Enter base of traingle 4\n",
      "Enter height of triangle 6\n",
      "Area of triangle is 12.0 squnits\n"
     ]
    }
   ],
   "source": [
    "#3.\tWrite a Python program to find the area of a triangle?\n",
    "b=int(input(\"Enter base of traingle \"))\n",
    "h=int(input(\"Enter height of triangle \"))\n",
    "a=(b*h)/2\n",
    "print(\"Area of triangle is {} squareunits\".format(a))"
   ]
  },
  {
   "cell_type": "code",
   "execution_count": 12,
   "metadata": {},
   "outputs": [
    {
     "name": "stdout",
     "output_type": "stream",
     "text": [
      "Enter variable1 6\n",
      "Enter variable2 89\n",
      "After swapping variable1 is 89\n",
      "After swapping variable2 is 6\n"
     ]
    }
   ],
   "source": [
    "#4.\tWrite a Python program to swap two variables?\n",
    "a=input(\"Enter variable1 \")\n",
    "b=input(\"Enter variable2 \")\n",
    "a=c\n",
    "a=b\n",
    "b=c\n",
    "print(\"After swapping variable1 is {}\".format(a))\n",
    "print(\"After swapping variable2 is {}\".format(c))"
   ]
  },
  {
   "cell_type": "code",
   "execution_count": 17,
   "metadata": {},
   "outputs": [
    {
     "name": "stdout",
     "output_type": "stream",
     "text": [
      "0.8942331362688475\n"
     ]
    }
   ],
   "source": [
    "#5.\tWrite a Python program to generate a random number?\n",
    "import random\n",
    "a = random.random()\n",
    "print(a)"
   ]
  },
  {
   "cell_type": "code",
   "execution_count": null,
   "metadata": {},
   "outputs": [],
   "source": []
  }
 ],
 "metadata": {
  "kernelspec": {
   "display_name": "Python 3",
   "language": "python",
   "name": "python3"
  },
  "language_info": {
   "codemirror_mode": {
    "name": "ipython",
    "version": 3
   },
   "file_extension": ".py",
   "mimetype": "text/x-python",
   "name": "python",
   "nbconvert_exporter": "python",
   "pygments_lexer": "ipython3",
   "version": "3.8.5"
  }
 },
 "nbformat": 4,
 "nbformat_minor": 4
}
